{
 "cells": [
  {
   "cell_type": "markdown",
   "metadata": {},
   "source": [
    "# references\n",
    "* http://snappishproductions.com/blog/2018/01/03/class-activation-mapping-in-pytorch.html\n",
    "* https://software.intel.com/en-us/articles/visualising-cnn-models-using-pytorch"
   ]
  },
  {
   "cell_type": "code",
   "execution_count": 278,
   "metadata": {},
   "outputs": [],
   "source": [
    "%matplotlib inline\n",
    "\n",
    "import numpy as np\n",
    "import skimage.transform\n",
    "import torch\n",
    "import torch.nn as nn\n",
    "import torch.nn.functional as F\n",
    "import pandas as pd\n",
    "import random\n",
    "import sys\n",
    "import tqdm\n",
    "import yaml\n",
    "\n",
    "from PIL import Image\n",
    "from matplotlib.pyplot import imshow\n",
    "from torchvision import models, transforms\n",
    "from torch.utils.data import Dataset, DataLoader\n",
    "from dataset import PartAffordanceDataset, ToTensor, CenterCrop, Normalize\n",
    "from addict import Dict\n",
    "from model import VGG16"
   ]
  },
  {
   "cell_type": "code",
   "execution_count": 279,
   "metadata": {},
   "outputs": [],
   "source": [
    "CONFIG = Dict(yaml.safe_load(open('./result/config.yaml')))"
   ]
  },
  {
   "cell_type": "code",
   "execution_count": 280,
   "metadata": {},
   "outputs": [],
   "source": [
    "data = PartAffordanceDataset(CONFIG.train_data,\n",
    "                           config=CONFIG,\n",
    "                           transform=transforms.Compose([\n",
    "                               CenterCrop(CONFIG),\n",
    "                               ToTensor(),\n",
    "                               Normalize()\n",
    "                           ]))"
   ]
  },
  {
   "cell_type": "code",
   "execution_count": 281,
   "metadata": {},
   "outputs": [],
   "source": [
    "loader = DataLoader(data, batch_size=3, shuffle=True, num_workers=CONFIG.num_workers)"
   ]
  },
  {
   "cell_type": "code",
   "execution_count": 282,
   "metadata": {
    "collapsed": true
   },
   "outputs": [
    {
     "data": {
      "text/plain": [
       "VGG16(\n",
       "  (features): Sequential(\n",
       "    (0): Conv(\n",
       "      (conv): Conv2d(3, 64, kernel_size=(3, 3), stride=(1, 1), padding=(1, 1))\n",
       "      (bn): BatchNorm2d(64, eps=1e-05, momentum=0.1, affine=True, track_running_stats=True)\n",
       "    )\n",
       "    (1): Conv(\n",
       "      (conv): Conv2d(64, 64, kernel_size=(3, 3), stride=(1, 1), padding=(1, 1))\n",
       "      (bn): BatchNorm2d(64, eps=1e-05, momentum=0.1, affine=True, track_running_stats=True)\n",
       "    )\n",
       "    (2): MaxPool2d(kernel_size=2, stride=2, padding=0, dilation=1, ceil_mode=False)\n",
       "    (3): Conv(\n",
       "      (conv): Conv2d(64, 128, kernel_size=(3, 3), stride=(1, 1), padding=(1, 1))\n",
       "      (bn): BatchNorm2d(128, eps=1e-05, momentum=0.1, affine=True, track_running_stats=True)\n",
       "    )\n",
       "    (4): Conv(\n",
       "      (conv): Conv2d(128, 128, kernel_size=(3, 3), stride=(1, 1), padding=(1, 1))\n",
       "      (bn): BatchNorm2d(128, eps=1e-05, momentum=0.1, affine=True, track_running_stats=True)\n",
       "    )\n",
       "    (5): MaxPool2d(kernel_size=2, stride=2, padding=0, dilation=1, ceil_mode=False)\n",
       "    (6): Conv(\n",
       "      (conv): Conv2d(128, 256, kernel_size=(3, 3), stride=(1, 1), padding=(1, 1))\n",
       "      (bn): BatchNorm2d(256, eps=1e-05, momentum=0.1, affine=True, track_running_stats=True)\n",
       "    )\n",
       "    (7): Conv(\n",
       "      (conv): Conv2d(256, 256, kernel_size=(3, 3), stride=(1, 1), padding=(1, 1))\n",
       "      (bn): BatchNorm2d(256, eps=1e-05, momentum=0.1, affine=True, track_running_stats=True)\n",
       "    )\n",
       "    (8): Conv(\n",
       "      (conv): Conv2d(256, 256, kernel_size=(3, 3), stride=(1, 1), padding=(1, 1))\n",
       "      (bn): BatchNorm2d(256, eps=1e-05, momentum=0.1, affine=True, track_running_stats=True)\n",
       "    )\n",
       "    (9): MaxPool2d(kernel_size=2, stride=2, padding=0, dilation=1, ceil_mode=False)\n",
       "    (10): Conv(\n",
       "      (conv): Conv2d(256, 512, kernel_size=(3, 3), stride=(1, 1), padding=(1, 1))\n",
       "      (bn): BatchNorm2d(512, eps=1e-05, momentum=0.1, affine=True, track_running_stats=True)\n",
       "    )\n",
       "    (11): Conv(\n",
       "      (conv): Conv2d(512, 512, kernel_size=(3, 3), stride=(1, 1), padding=(1, 1))\n",
       "      (bn): BatchNorm2d(512, eps=1e-05, momentum=0.1, affine=True, track_running_stats=True)\n",
       "    )\n",
       "    (12): Conv(\n",
       "      (conv): Conv2d(512, 512, kernel_size=(3, 3), stride=(1, 1), padding=(1, 1))\n",
       "      (bn): BatchNorm2d(512, eps=1e-05, momentum=0.1, affine=True, track_running_stats=True)\n",
       "    )\n",
       "    (13): MaxPool2d(kernel_size=2, stride=2, padding=0, dilation=1, ceil_mode=False)\n",
       "    (14): Conv(\n",
       "      (conv): Conv2d(512, 512, kernel_size=(3, 3), stride=(1, 1), padding=(1, 1))\n",
       "      (bn): BatchNorm2d(512, eps=1e-05, momentum=0.1, affine=True, track_running_stats=True)\n",
       "    )\n",
       "    (15): Conv(\n",
       "      (conv): Conv2d(512, 512, kernel_size=(3, 3), stride=(1, 1), padding=(1, 1))\n",
       "      (bn): BatchNorm2d(512, eps=1e-05, momentum=0.1, affine=True, track_running_stats=True)\n",
       "    )\n",
       "    (16): Conv(\n",
       "      (conv): Conv2d(512, 512, kernel_size=(3, 3), stride=(1, 1), padding=(1, 1))\n",
       "      (bn): BatchNorm2d(512, eps=1e-05, momentum=0.1, affine=True, track_running_stats=True)\n",
       "    )\n",
       "    (17): AvgPool2d(kernel_size=(16, 16), stride=(16, 16), padding=0)\n",
       "  )\n",
       "  (classifier): Linear(in_features=512, out_features=7, bias=True)\n",
       ")"
      ]
     },
     "execution_count": 282,
     "metadata": {},
     "output_type": "execute_result"
    }
   ],
   "source": [
    "model = VGG16(CONFIG.in_channel, CONFIG.n_classes)\n",
    "model.load_state_dict(torch.load('best_accuracy_model.prm', map_location=lambda storage, loc: storage))\n",
    "model.eval()"
   ]
  },
  {
   "cell_type": "markdown",
   "metadata": {},
   "source": [
    "### numpy ベースでやる方法(for文回すから非効率)"
   ]
  },
  {
   "cell_type": "code",
   "execution_count": 284,
   "metadata": {},
   "outputs": [],
   "source": [
    "class SaveFeatures():\n",
    "    features = None\n",
    "    def __init__(self, m):\n",
    "        # register a hook  to save features\n",
    "        self.hook = m.register_forward_hook(self.hook_fn)\n",
    "    \n",
    "    def hook_fn(self, module, input, output):\n",
    "        # save features\n",
    "        self.features = (output.to('cpu').data).numpy()\n",
    "                        \n",
    "    def remove(self):\n",
    "        self.hook.remove()"
   ]
  },
  {
   "cell_type": "code",
   "execution_count": 285,
   "metadata": {},
   "outputs": [],
   "source": [
    "final_layer = model._modules.get('features')[16]"
   ]
  },
  {
   "cell_type": "code",
   "execution_count": 286,
   "metadata": {},
   "outputs": [],
   "source": [
    "activated_features = SaveFeatures(final_layer)"
   ]
  },
  {
   "cell_type": "code",
   "execution_count": 287,
   "metadata": {},
   "outputs": [
    {
     "name": "stdout",
     "output_type": "stream",
     "text": [
      "None\n"
     ]
    }
   ],
   "source": [
    "print(activated_features.features)"
   ]
  },
  {
   "cell_type": "code",
   "execution_count": 288,
   "metadata": {},
   "outputs": [
    {
     "name": "stdout",
     "output_type": "stream",
     "text": [
      "(3, 512, 16, 16)\n",
      "torch.Size([3, 7])\n",
      "tensor([[1., 0., 0., 0., 0., 0., 0.],\n",
      "        [1., 0., 0., 0., 0., 0., 0.],\n",
      "        [1., 0., 0., 0., 0., 0., 0.]], grad_fn=<IndexPutBackward>)\n"
     ]
    }
   ],
   "source": [
    "for sample in train_loader:\n",
    "    img = sample['image']\n",
    "    \n",
    "    pred = model(img)\n",
    "    \n",
    "    print(activated_features.features.shape)\n",
    "    print(pred.shape)\n",
    "    pred[pred>0.5] = 1\n",
    "    pred[pred<=0.5] = 0\n",
    "    \n",
    "    print(pred)\n",
    "    \n",
    "    break"
   ]
  },
  {
   "cell_type": "code",
   "execution_count": 289,
   "metadata": {},
   "outputs": [],
   "source": [
    "class_idx = np.where(pred==1)"
   ]
  },
  {
   "cell_type": "code",
   "execution_count": 290,
   "metadata": {},
   "outputs": [
    {
     "data": {
      "text/plain": [
       "(array([0, 1, 2]), array([0, 0, 0]))"
      ]
     },
     "execution_count": 290,
     "metadata": {},
     "output_type": "execute_result"
    }
   ],
   "source": [
    "class_idx"
   ]
  },
  {
   "cell_type": "code",
   "execution_count": 291,
   "metadata": {},
   "outputs": [],
   "source": [
    "def getCAM(feature_conv, weight_fc, class_idx):\n",
    "    '''\n",
    "    feature_conv => output from the last conv layer\n",
    "    weight_fc => the weight of fully connected layer\n",
    "    class_idx => np.where(pred==1)    \n",
    "    '''\n",
    "    N, C, H, W = feature_conv.shape\n",
    "    cam_img = []\n",
    "    \n",
    "    for n in range(N):\n",
    "        index = np.where(class_idx[0]==n)   # indices of pred labels each image has\n",
    "        cls = class_idx[1][index]            # decode one-hot vector, such as [0, 1, 3]\n",
    "        \n",
    "        for c in cls:\n",
    "            cam = weight_fc[c].dot(feature_conv[n].reshape((C, H*W)))\n",
    "            cam = cam.reshape(H, W)\n",
    "            # Normalization\n",
    "            cam = cam - np.min(cam)\n",
    "            cam = cam / np.max(cam)\n",
    "            cam_img.append(cam)\n",
    "            \n",
    "    return cam_img"
   ]
  },
  {
   "cell_type": "code",
   "execution_count": 292,
   "metadata": {},
   "outputs": [],
   "source": [
    "weight_softmax_params = list(model._modules.get('classifier').parameters())"
   ]
  },
  {
   "cell_type": "code",
   "execution_count": 293,
   "metadata": {},
   "outputs": [],
   "source": [
    "weight_softmax = np.squeeze(weight_softmax_params[0].to('cpu').data.numpy())"
   ]
  },
  {
   "cell_type": "code",
   "execution_count": 294,
   "metadata": {},
   "outputs": [],
   "source": [
    "overlay = getCAM(activated_features.features, weight_softmax, class_idx)"
   ]
  },
  {
   "cell_type": "code",
   "execution_count": 295,
   "metadata": {},
   "outputs": [],
   "source": [
    "def reverse_normalize(x, mean=[0.2191, 0.2349, 0.3598], std=[0.1243, 0.1171, 0.0748]):\n",
    "    x[0, :, :] = x[0, :, :] * std[0] + mean[0]\n",
    "    x[1, :, :] = x[1, :, :] * std[1] + mean[1]\n",
    "    x[2, :, :] = x[2, :, :] * std[2] + mean[2]\n",
    "    return x"
   ]
  },
  {
   "cell_type": "code",
   "execution_count": 296,
   "metadata": {},
   "outputs": [],
   "source": [
    "img_list = []\n",
    "for c in class_idx[0]:\n",
    "    i = reverse_normalize(img[c])\n",
    "    i = i.numpy()\n",
    "    img_list.append(i)"
   ]
  },
  {
   "cell_type": "code",
   "execution_count": 298,
   "metadata": {},
   "outputs": [
    {
     "name": "stderr",
     "output_type": "stream",
     "text": [
      "Clipping input data to the valid range for imshow with RGB data ([0..1] for floats or [0..255] for integers).\n"
     ]
    },
    {
     "name": "stdout",
     "output_type": "stream",
     "text": [
      "(256, 256, 3)\n"
     ]
    },
    {
     "data": {
      "image/png": "[encoded data removed]",
      "text/plain": [
       "<Figure size 432x288 with 1 Axes>"
      ]
     },
     "metadata": {
      "needs_background": "light"
     },
     "output_type": "display_data"
    }
   ],
   "source": [
    "for i, o in zip(img_list, overlay):\n",
    "    i = i.transpose((1, 2, 0))\n",
    "    print(i.shape)\n",
    "    imshow(i)\n",
    "    imshow(skimage.transform.resize(o, i.shape[0:2]), alpha=0.5, cmap='jet')\n",
    "    break"
   ]
  },
  {
   "cell_type": "code",
   "execution_count": null,
   "metadata": {},
   "outputs": [],
   "source": [
    "### tensorベースでやる方法"
   ]
  },
  {
   "cell_type": "code",
   "execution_count": 308,
   "metadata": {},
   "outputs": [],
   "source": [
    "class SaveFeatures():\n",
    "    features = None\n",
    "    def __init__(self, m):\n",
    "        # register a hook  to save features\n",
    "        self.hook = m.register_forward_hook(self.hook_fn)\n",
    "    \n",
    "    def hook_fn(self, module, input, output):\n",
    "        # save features\n",
    "        self.features = output.to('cpu').data\n",
    "                        \n",
    "    def remove(self):\n",
    "        self.hook.remove()"
   ]
  },
  {
   "cell_type": "code",
   "execution_count": 309,
   "metadata": {},
   "outputs": [],
   "source": [
    "final_layer = model._modules.get('features')[16]"
   ]
  },
  {
   "cell_type": "code",
   "execution_count": 310,
   "metadata": {},
   "outputs": [],
   "source": [
    "activated_features = SaveFeatures(final_layer)"
   ]
  },
  {
   "cell_type": "code",
   "execution_count": 311,
   "metadata": {},
   "outputs": [
    {
     "name": "stdout",
     "output_type": "stream",
     "text": [
      "None\n"
     ]
    }
   ],
   "source": [
    "print(activated_features.features)"
   ]
  },
  {
   "cell_type": "code",
   "execution_count": 312,
   "metadata": {},
   "outputs": [
    {
     "name": "stdout",
     "output_type": "stream",
     "text": [
      "torch.Size([3, 512, 16, 16])\n",
      "torch.Size([3, 7])\n",
      "tensor([[0., 0., 0., 1., 0., 0., 0.],\n",
      "        [1., 0., 0., 0., 0., 0., 0.],\n",
      "        [1., 0., 0., 0., 0., 0., 0.]], grad_fn=<IndexPutBackward>)\n"
     ]
    }
   ],
   "source": [
    "for sample in train_loader:\n",
    "    img = sample['image']\n",
    "    \n",
    "    pred = model(img)\n",
    "    \n",
    "    print(activated_features.features.shape)\n",
    "    print(pred.shape)\n",
    "    pred[pred>0.5] = 1\n",
    "    pred[pred<=0.5] = 0\n",
    "    \n",
    "    print(pred)\n",
    "    \n",
    "    break"
   ]
  },
  {
   "cell_type": "code",
   "execution_count": 317,
   "metadata": {},
   "outputs": [],
   "source": [
    "params_fc = list(model._modules.get('classifier').parameters())\n",
    "weight_fc = params_fc[0].to('cpu').data"
   ]
  },
  {
   "cell_type": "code",
   "execution_count": 318,
   "metadata": {},
   "outputs": [
    {
     "data": {
      "text/plain": [
       "torch.Size([7, 512])"
      ]
     },
     "execution_count": 318,
     "metadata": {},
     "output_type": "execute_result"
    }
   ],
   "source": [
    "weight_fc.shape"
   ]
  },
  {
   "cell_type": "code",
   "execution_count": 319,
   "metadata": {},
   "outputs": [],
   "source": [
    "def getCAM(features, weight_fc):\n",
    "    '''\n",
    "    features: feature map before GAP.  shape => (N, C, H, W)\n",
    "    weight_fc: the weight of fully connected layer.  shape => (num_classes, C)\n",
    "    cam: class activation map.  shape=> (N, num_classes, H, W)\n",
    "    '''\n",
    "    \n",
    "    cam = F.conv2d(features, weight=weight_fc[:, :, None, None])\n",
    "    \n",
    "    return cam"
   ]
  },
  {
   "cell_type": "code",
   "execution_count": 320,
   "metadata": {},
   "outputs": [],
   "source": [
    "a = getCAM(activated_features.features, weight_softmax)"
   ]
  },
  {
   "cell_type": "code",
   "execution_count": 322,
   "metadata": {},
   "outputs": [
    {
     "data": {
      "text/plain": [
       "torch.Size([3, 7, 16, 16])"
      ]
     },
     "execution_count": 322,
     "metadata": {},
     "output_type": "execute_result"
    }
   ],
   "source": [
    "a.shape"
   ]
  },
  {
   "cell_type": "code",
   "execution_count": 325,
   "metadata": {},
   "outputs": [
    {
     "data": {
      "text/plain": [
       "tensor([[0., 0., 0., 1., 0., 0., 0.],\n",
       "        [1., 0., 0., 0., 0., 0., 0.],\n",
       "        [1., 0., 0., 0., 0., 0., 0.]], grad_fn=<IndexPutBackward>)"
      ]
     },
     "execution_count": 325,
     "metadata": {},
     "output_type": "execute_result"
    }
   ],
   "source": [
    "pred"
   ]
  },
  {
   "cell_type": "code",
   "execution_count": 338,
   "metadata": {},
   "outputs": [
    {
     "name": "stdout",
     "output_type": "stream",
     "text": [
      "tensor([0, 3])\n",
      "torch.Size([16, 16])\n",
      "tensor([1, 0])\n",
      "torch.Size([16, 16])\n",
      "tensor([2, 0])\n",
      "torch.Size([16, 16])\n"
     ]
    }
   ],
   "source": [
    "# nonzero でインデックスの検索が可能\n",
    "c = []\n",
    "for i in pred.nonzero():\n",
    "    print(i)\n",
    "    print(a[i[0],i[1], :, :].shape)\n",
    "    c.append(a[i[0],i[1], :, :].unsqueeze(0))\n",
    "    \n",
    "    # TODO: 正規化処理"
   ]
  },
  {
   "cell_type": "code",
   "execution_count": 339,
   "metadata": {},
   "outputs": [
    {
     "data": {
      "text/plain": [
       "[tensor([[[-0.9049, -1.3750, -2.6829, -2.0241, -2.3250, -5.3289, -1.4361,\n",
       "           -1.4059, -4.2587, -6.1043, -3.9409, -2.5416, -1.3593, -1.5583,\n",
       "           -1.9033, -0.5149],\n",
       "          [-1.5487, -3.0862, -4.4958, -3.6147, -3.3078, -4.5621, -1.6037,\n",
       "           -0.6819, -2.8750,  3.2794,  1.7842, -3.6075, -0.0361, -2.7350,\n",
       "           -1.1634, -1.0276],\n",
       "          [-1.6305, -3.8956, -3.0655, -4.7946, -5.2188, -7.0261, -2.7242,\n",
       "           -0.7977,  0.2418, -2.6273,  5.6379, -0.8039,  0.5239, -1.4920,\n",
       "           -0.6089,  1.0074],\n",
       "          [-0.4828, -1.8247, -2.2308, -2.8488, -2.8545, -0.1773,  1.2508,\n",
       "            2.7203,  2.2848,  4.4294,  4.3344,  2.5460, -2.4221, -0.7791,\n",
       "           -2.1298,  0.4466],\n",
       "          [ 0.1198, -0.2383, -0.9614, -3.5669, -2.9292, -0.7900,  1.2861,\n",
       "            2.5468, -2.8982,  3.9603,  0.6175,  1.1767, -0.6455, -1.0368,\n",
       "           -1.6187,  0.5230],\n",
       "          [ 1.2025,  1.1659,  0.2002, -1.5868,  1.8455, -1.8665,  0.9238,\n",
       "            6.1642,  2.0660, -3.4205,  0.5468, -0.5789,  0.4612, -1.2583,\n",
       "           -0.2694,  0.1849],\n",
       "          [ 1.6500,  1.8344,  1.7494,  0.8709, -0.5930, -2.0482, -0.5826,\n",
       "           -0.2730,  1.2460, -0.8602,  0.4962,  0.4005,  1.0572,  0.6677,\n",
       "            0.6379, -0.5768],\n",
       "          [ 1.4939,  2.4350,  2.9413,  2.3164, -0.2674, -1.1409, -0.7668,\n",
       "            0.5041, -1.6448,  0.0585, -0.9038,  1.1650,  1.3815,  2.5001,\n",
       "            1.4760,  1.1596],\n",
       "          [ 1.3362,  2.9223,  4.2077,  2.5448, -0.3495, -0.9606, -1.6367,\n",
       "           -3.4900, -3.8031, -0.1764,  1.6983,  2.5656,  3.3312,  3.1569,\n",
       "            2.3964,  2.6582],\n",
       "          [ 1.3388,  2.7462,  3.5355,  3.8189,  2.1699, -0.0735, -1.8798,\n",
       "           -2.2700, -1.6109,  0.5976,  0.5351,  3.2103,  4.0751,  3.4083,\n",
       "            2.9968,  2.0785],\n",
       "          [ 0.9707,  2.7863,  3.4165,  3.9846,  2.9056,  0.6894, -0.7018,\n",
       "           -0.5916, -1.9704,  1.6034,  2.9449,  3.5575,  4.3232,  4.0766,\n",
       "            3.4673,  2.1585],\n",
       "          [ 0.8618,  2.2117,  3.9919,  4.5673,  3.4062,  2.4015,  1.6392,\n",
       "            1.2200,  0.6997,  2.8976,  2.9266,  3.9394,  4.2652,  3.7436,\n",
       "            3.3814,  2.3441],\n",
       "          [ 1.1003,  2.6947,  3.4863,  4.3855,  4.0883,  3.5571,  2.8068,\n",
       "            2.2990,  3.3358,  3.3580,  3.7228,  3.8692,  4.2818,  4.0563,\n",
       "            4.1047,  2.4265],\n",
       "          [ 0.8863,  2.3175,  3.1822,  3.4796,  3.6878,  3.0818,  3.2031,\n",
       "            3.2669,  3.2488,  3.6855,  3.3703,  3.6119,  3.9797,  3.7539,\n",
       "            3.7516,  2.5937],\n",
       "          [ 1.4209,  2.2421,  2.8812,  3.2783,  3.4193,  3.5436,  3.4350,\n",
       "            2.8709,  2.8285,  3.1766,  3.2510,  3.8291,  3.2411,  3.2015,\n",
       "            2.9100,  2.0092],\n",
       "          [ 0.5645,  0.3661,  1.5931,  1.6232,  1.8328,  1.8686,  1.7220,\n",
       "            1.3166,  1.5836,  1.9614,  1.9762,  2.1594,  1.8250,  2.2209,\n",
       "            1.8637,  1.2167]]]),\n",
       " tensor([[[ 1.4175e+00,  1.2371e+00,  1.0224e+00,  1.0917e+00,  1.7239e+00,\n",
       "            2.7170e+00,  2.1589e+00,  3.5019e+00,  4.1010e+00,  7.3845e+00,\n",
       "            6.6931e+00,  5.8112e+00,  4.4266e+00,  3.5400e+00,  2.1358e+00,\n",
       "            1.3582e+00],\n",
       "          [ 1.7667e+00,  1.5050e+00,  2.2599e+00,  3.1439e+00,  2.2210e+00,\n",
       "            3.0920e+00,  3.1595e+00,  2.7516e+00,  6.4083e+00,  3.8153e+00,\n",
       "            4.8141e+00,  7.7538e+00,  4.7765e+00,  3.2790e+00,  1.8594e+00,\n",
       "            1.4913e+00],\n",
       "          [ 2.9589e+00,  2.6245e+00,  2.9990e+00,  3.2404e+00,  3.1173e+00,\n",
       "            3.7079e+00,  4.6309e+00,  2.3611e+00,  2.2314e+00,  2.1769e+00,\n",
       "            4.2195e+00,  4.7912e-01,  9.7003e-01,  2.8400e+00,  1.1535e+00,\n",
       "            2.1243e+00],\n",
       "          [ 3.1559e+00,  3.5057e+00,  2.9771e+00,  2.2949e+00,  2.6810e+00,\n",
       "            3.4506e+00,  2.7361e+00,  2.3376e+00,  3.9283e+00,  1.0981e+00,\n",
       "            1.0520e+00,  9.5131e-02,  2.1459e+00,  2.0729e+00,  3.0511e+00,\n",
       "            2.7544e+00],\n",
       "          [ 1.9840e+00,  3.7150e+00,  2.9965e+00,  3.7344e+00,  3.3859e+00,\n",
       "            2.7342e+00,  4.6018e+00,  4.2358e+00,  4.7254e+00,  2.8735e+00,\n",
       "            4.7926e+00,  4.3497e+00,  4.7359e+00,  2.9244e+00,  3.2395e+00,\n",
       "            2.0596e+00],\n",
       "          [ 2.9969e+00,  2.5850e+00,  1.2777e+00,  2.2113e+00,  5.0256e+00,\n",
       "            4.5498e+00,  4.6745e+00,  3.9871e+00,  5.1314e+00,  4.7441e+00,\n",
       "            3.7188e+00,  5.2860e+00,  4.3870e+00,  2.4317e+00,  4.5706e+00,\n",
       "            1.1406e+00],\n",
       "          [ 2.2883e+00,  3.1023e+00,  3.0891e+00,  3.5618e+00,  4.3213e+00,\n",
       "            4.3782e+00,  3.6309e+00,  5.8657e+00,  5.5186e+00,  5.1045e+00,\n",
       "            3.8225e+00,  1.8657e+00,  3.7069e+00,  3.6312e+00,  1.8120e+00,\n",
       "            1.7341e+00],\n",
       "          [ 2.0768e+00,  3.3042e+00,  3.4796e+00,  3.1826e+00,  5.3191e+00,\n",
       "            4.9808e+00,  3.7633e+00,  4.6262e+00,  3.5040e+00,  2.8685e+00,\n",
       "            2.9617e+00,  4.1587e+00,  2.0211e+00,  1.7652e+00,  1.4437e+00,\n",
       "           -4.8561e-01],\n",
       "          [ 2.5950e+00,  3.3550e+00,  4.3741e+00,  4.4138e+00,  4.8235e+00,\n",
       "            3.9519e+00,  2.0304e+00,  4.9770e+00,  3.4331e+00,  1.7229e+00,\n",
       "            2.7168e+00,  1.8518e+00,  3.5746e+00,  2.0373e+00,  9.6041e-01,\n",
       "            3.4337e-01],\n",
       "          [ 3.2111e+00,  4.2802e+00,  5.0912e+00,  5.9869e+00,  2.4702e+00,\n",
       "            1.2470e+00,  3.8441e+00,  2.0347e+00,  1.2766e+00,  2.5857e+00,\n",
       "            1.2683e+00,  2.3059e+00,  1.2781e+00,  8.1337e-01, -4.2380e-02,\n",
       "            7.5594e-02],\n",
       "          [ 3.1513e+00,  5.7636e+00,  4.7435e+00,  3.8303e+00,  3.3633e+00,\n",
       "            1.5237e+00,  1.3467e+00,  1.6651e+00,  2.9076e+00, -1.6157e-01,\n",
       "            4.5772e-01, -1.0445e-01, -1.2657e+00, -9.1921e-01, -4.9652e-01,\n",
       "            1.0895e-01],\n",
       "          [ 1.7621e+00,  3.7577e+00,  4.2162e+00,  2.3663e+00,  1.0992e+00,\n",
       "            4.2891e+00,  1.7649e+00,  5.9957e-01,  8.1987e-01, -5.8861e-01,\n",
       "           -6.1393e-01, -8.9322e-01, -7.8420e-01, -4.0303e-01, -5.7474e-02,\n",
       "            9.4123e-01],\n",
       "          [ 1.6612e+00,  2.9755e+00,  1.3192e+00,  2.1029e+00,  4.0064e+00,\n",
       "            1.1258e+00,  1.5907e+00, -1.1287e-01, -1.0657e+00, -1.3566e+00,\n",
       "           -1.1500e+00, -8.3528e-01,  7.1951e-01,  9.9843e-01,  5.0520e-02,\n",
       "            1.9741e+00],\n",
       "          [ 2.4871e-01,  8.6981e-01,  9.3612e-01,  2.0931e+00,  5.1373e-01,\n",
       "           -7.0586e-02, -1.1039e+00, -1.0610e+00, -1.6648e+00, -1.1139e+00,\n",
       "           -6.1655e-01, -4.8787e-01,  9.4558e-01,  2.2478e+00,  2.3220e+00,\n",
       "            2.3051e+00],\n",
       "          [ 1.8286e-01,  3.2995e-01, -4.5092e-01, -4.1085e-01, -6.0570e-01,\n",
       "           -8.8418e-01, -7.2081e-01, -1.6366e+00, -1.3085e+00, -1.0857e+00,\n",
       "           -3.6937e-03,  5.8642e-01,  2.4754e+00,  2.8509e+00,  3.1836e+00,\n",
       "            2.1779e+00],\n",
       "          [ 7.6091e-02,  2.0931e-01, -3.7198e-01, -1.7900e-01, -5.1335e-01,\n",
       "           -5.8557e-01, -5.0373e-01, -6.5108e-01, -8.7805e-01, -6.2417e-01,\n",
       "           -2.9874e-02,  4.7117e-01,  1.3683e+00,  1.8555e+00,  2.8756e+00,\n",
       "            1.5844e+00]]]),\n",
       " tensor([[[ 3.9325e+00,  5.5784e+00,  2.7932e+00,  4.3817e+00,  2.6975e+00,\n",
       "            3.4499e+00,  2.1906e+00,  1.7367e+00,  1.7429e+00,  1.3777e+00,\n",
       "            2.1542e+00,  1.9112e+00,  2.3430e+00,  1.7735e+00,  3.2367e+00,\n",
       "            1.5270e+00],\n",
       "          [ 4.1761e+00,  4.2591e+00,  1.7932e+00,  4.7495e+00,  2.9027e+00,\n",
       "            3.5857e+00,  1.9592e+00,  2.0830e+00,  1.6864e+00,  1.5008e+00,\n",
       "            1.1268e+00,  6.9772e-01,  1.4273e+00,  1.9384e+00,  1.6072e+00,\n",
       "            1.6582e+00],\n",
       "          [ 3.6589e+00,  1.3614e+00,  3.3600e+00,  2.4888e+00,  3.4373e+00,\n",
       "            4.1279e+00,  4.5823e+00,  2.6295e+00,  3.0446e+00,  1.8304e+00,\n",
       "            2.0588e+00,  1.8002e+00,  2.2966e+00,  2.4169e+00,  1.3321e+00,\n",
       "            4.7774e-01],\n",
       "          [ 3.1389e+00,  9.4753e-01,  1.9694e+00,  6.0883e+00,  5.0756e+00,\n",
       "            4.6206e+00,  5.7457e+00,  6.7488e+00,  1.6745e+00,  1.9327e+00,\n",
       "            2.0201e+00,  1.9557e+00,  1.8333e+00,  1.9431e+00,  1.0753e+00,\n",
       "            9.3140e-01],\n",
       "          [ 2.6085e+00,  3.8213e+00,  5.9139e+00,  4.0373e+00,  5.8026e+00,\n",
       "            3.0389e+00,  3.9932e+00,  3.2033e+00,  4.9877e+00,  3.6091e+00,\n",
       "            2.2725e+00,  1.7773e+00,  2.6080e+00,  2.8028e+00,  8.7538e-01,\n",
       "            6.0914e-01],\n",
       "          [ 3.2246e+00,  3.1549e+00,  2.4691e+00,  5.3956e+00,  1.8728e+00,\n",
       "            3.1414e+00,  3.9879e+00,  1.3474e+00,  2.0418e+00,  2.5488e+00,\n",
       "            1.4822e+00,  2.0105e+00,  1.4523e+00,  1.0237e+00,  2.6880e+00,\n",
       "            1.5468e+00],\n",
       "          [ 2.0099e+00,  3.1961e+00,  2.1439e+00,  2.5590e+00,  3.5892e+00,\n",
       "            2.0134e+00, -1.3999e+00, -9.4808e-01,  1.7410e+00,  1.5885e+00,\n",
       "            2.9278e+00,  1.9470e+00,  2.9941e+00,  2.7088e+00,  2.2543e+00,\n",
       "            1.6430e+00],\n",
       "          [-2.9686e-01,  7.7910e-01,  1.4358e+00,  1.6456e+00,  3.0574e-01,\n",
       "            5.3908e-01,  4.8611e-01, -2.6700e+00, -3.0212e+00,  2.9833e+00,\n",
       "            2.5615e+00,  2.1812e+00,  1.2672e+00,  2.9195e+00,  3.6805e+00,\n",
       "            1.8586e+00],\n",
       "          [-3.4494e-01, -3.1780e-01,  6.2566e-02,  1.6449e-01,  1.9694e+00,\n",
       "           -4.5079e-01,  2.6570e+00,  2.3403e+00, -9.2817e-01, -1.6768e+00,\n",
       "           -6.8513e-01,  1.5979e+00,  3.4332e+00,  4.7322e+00,  3.6070e+00,\n",
       "            2.4802e+00],\n",
       "          [ 5.1617e-01,  2.4233e-01,  9.1994e-02, -4.4710e-01, -6.7071e-02,\n",
       "           -8.7723e-01, -2.1557e+00,  2.2288e+00,  1.8585e+00,  3.0424e+00,\n",
       "            2.5178e+00,  6.7649e-01,  1.5774e+00,  2.8859e+00,  8.1540e-01,\n",
       "            2.2596e+00],\n",
       "          [ 1.2696e+00,  1.4512e+00, -2.4533e-02, -7.8263e-01, -3.1398e-01,\n",
       "           -4.5223e-01,  4.5807e-01,  7.7091e-02,  6.8280e-01, -1.5068e-01,\n",
       "           -6.2894e-02,  1.4632e+00,  5.7752e-01,  2.1135e+00,  1.6648e+00,\n",
       "            2.5256e+00],\n",
       "          [ 1.7324e+00,  2.1010e+00,  1.3763e+00,  7.7154e-01, -2.2178e-01,\n",
       "           -2.7629e-01, -2.9630e-01, -1.7769e+00, -1.4389e+00,  7.3407e-01,\n",
       "            5.7659e-01,  2.5137e-03,  1.5059e+00,  5.1326e-01,  2.3986e+00,\n",
       "            1.4401e+00],\n",
       "          [ 3.7054e+00,  2.5177e+00,  1.1285e+00,  2.3079e+00,  2.1796e+00,\n",
       "            9.6045e-01,  2.3876e-01, -6.4800e-01, -1.4898e+00, -8.2950e-01,\n",
       "           -9.8547e-01,  6.4746e-01,  9.8334e-01, -5.4508e-01,  2.0931e-02,\n",
       "            6.9212e-01],\n",
       "          [ 2.4387e+00,  3.6084e+00,  3.3230e+00,  2.3505e+00,  7.4254e-01,\n",
       "            1.4180e+00,  5.5910e-01,  5.5574e-02, -1.0367e+00, -2.6267e-01,\n",
       "            6.7604e-01,  2.2595e+00,  1.4841e+00,  1.3115e+00,  5.3259e-01,\n",
       "            1.1754e+00],\n",
       "          [ 1.1910e+00,  2.9248e+00,  3.4542e+00,  2.0939e+00,  2.8030e+00,\n",
       "            1.6460e+00, -1.2328e-01,  2.2978e-01, -7.3582e-02,  1.9044e-01,\n",
       "            1.0992e+00,  2.6826e+00,  3.3132e+00,  2.1391e+00,  2.0717e+00,\n",
       "            6.4441e-01],\n",
       "          [ 1.3514e+00,  1.4159e+00,  1.3993e+00,  1.4475e+00,  2.7477e+00,\n",
       "            2.3826e+00,  1.8856e+00,  6.7237e-01,  1.5012e-01,  2.0138e-01,\n",
       "            7.1499e-01,  2.3421e+00,  3.3966e+00,  2.8448e+00,  2.5106e+00,\n",
       "            6.5381e-01]]])]"
      ]
     },
     "execution_count": 339,
     "metadata": {},
     "output_type": "execute_result"
    }
   ],
   "source": []
  },
  {
   "cell_type": "code",
   "execution_count": null,
   "metadata": {},
   "outputs": [],
   "source": []
  }
 ],
 "metadata": {
  "kernelspec": {
   "display_name": "Python 3",
   "language": "python",
   "name": "python3"
  },
  "language_info": {
   "codemirror_mode": {
    "name": "ipython",
    "version": 3
   },
   "file_extension": ".py",
   "mimetype": "text/x-python",
   "name": "python",
   "nbconvert_exporter": "python",
   "pygments_lexer": "ipython3",
   "version": "3.6.6"
  }
 },
 "nbformat": 4,
 "nbformat_minor": 2
}
